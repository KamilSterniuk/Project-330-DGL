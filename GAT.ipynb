{
 "cells": [
  {
   "cell_type": "code",
   "execution_count": null,
   "metadata": {},
   "outputs": [],
   "source": []
  },
  {
   "cell_type": "code",
   "execution_count": 1,
   "metadata": {},
   "outputs": [
    {
     "name": "stderr",
     "output_type": "stream",
     "text": [
      "c:\\Users\\olame\\miniconda3\\envs\\gnn\\lib\\site-packages\\tqdm\\auto.py:21: TqdmWarning: IProgress not found. Please update jupyter and ipywidgets. See https://ipywidgets.readthedocs.io/en/stable/user_install.html\n",
      "  from .autonotebook import tqdm as notebook_tqdm\n"
     ]
    }
   ],
   "source": [
    "import torch\n",
    "import torch.nn.functional as F\n",
    "from torch_geometric.nn import MessagePassing #MessagePassing jest używana do definiowania warstw przetwarzania wiadomości w grafach\n",
    "from torch_geometric.utils import add_self_loops, softmax"
   ]
  },
  {
   "cell_type": "code",
   "execution_count": 2,
   "metadata": {},
   "outputs": [],
   "source": [
    "class GATLayer(MessagePassing):\n",
    "    def __init__(self, in_channels, out_channels, heads=1, concat=True, negative_slope=0.2, dropout=0, **kwargs):\n",
    "        super(GATLayer, self).__init__(aggr='add', **kwargs)  \n",
    "        self.in_channels = in_channels\n",
    "        self.out_channels = out_channels\n",
    "        self.heads = heads\n",
    "        self.concat = concat\n",
    "        self.negative_slope = negative_slope\n",
    "        self.dropout = dropout\n",
    "\n",
    "        self.weight = torch.nn.Parameter(torch.Tensor(in_channels, heads * out_channels))\n",
    "        self.att = torch.nn.Parameter(torch.Tensor(1, heads, 2 * out_channels))\n",
    "\n",
    "        self.reset_parameters()\n",
    "\n",
    "    def reset_parameters(self):\n",
    "        torch.nn.init.xavier_uniform_(self.weight)\n",
    "        torch.nn.init.xavier_uniform_(self.att)\n",
    "\n",
    "    def forward(self, x, edge_index):\n",
    "        # Step 1: Add self-loops to the adjacency matrix\n",
    "        edge_index, _ = add_self_loops(edge_index, num_nodes=x.size(0))\n",
    "\n",
    "        # Step 2: Linearly transform node feature matrix with weight matrix\n",
    "        x = torch.matmul(x, self.weight)\n",
    "        \n",
    "        # Step 3: Start propagating messages\n",
    "        return self.propagate(edge_index, x=x)\n",
    "\n",
    "    def message_and_aggregate(self, adj_t, x):\n",
    "       \n",
    "        x_i = x[adj_t.row]  # Source node features\n",
    "        x_j = x[adj_t.col]  # Target node features\n",
    "        \n",
    "        # Calculate attention scores\n",
    "        alpha = torch.cat([x_i, x_j], dim=-1)\n",
    "        alpha = F.leaky_relu(torch.matmul(alpha, self.att), self.negative_slope)\n",
    "        alpha = softmax(alpha, adj_t.col)  # Normalize attention scores\n",
    "        alpha = F.dropout(alpha, p=self.dropout, training=self.training)\n",
    "\n",
    "        # Perform weighted aggregation\n",
    "        out = alpha * x_i  # Weight source node features by attention scores\n",
    "        out = torch.sparse.sum(adj_t, dim=0)  # Aggregate messages by summation\n",
    "        \n",
    "        return out\n",
    "\n",
    "    def __repr__(self):\n",
    "        return '{}(in_channels={}, out_channels={}, heads={})'.format(self.__class__.__name__, self.in_channels, self.out_channels, self.heads)\n",
    "\n",
    "\n"
   ]
  },
  {
   "cell_type": "code",
   "execution_count": 3,
   "metadata": {},
   "outputs": [
    {
     "name": "stdout",
     "output_type": "stream",
     "text": [
      "GATLayer(in_channels=16, out_channels=8, heads=4)\n"
     ]
    }
   ],
   "source": [
    "in_channels = 16\n",
    "out_channels = 8\n",
    "heads = 4\n",
    "\n",
    "gat_layer = GATLayer(in_channels, out_channels, heads=heads)\n",
    "print(gat_layer)"
   ]
  },
  {
   "cell_type": "markdown",
   "metadata": {},
   "source": [
    "#   COO CSR"
   ]
  },
  {
   "cell_type": "code",
   "execution_count": 4,
   "metadata": {},
   "outputs": [],
   "source": [
    "import torch\n",
    "import torch.nn.functional as F\n",
    "import torch.optim as optim\n",
    "import torch_geometric\n",
    "from torch_geometric.data import Data\n",
    "from torch_geometric.utils import to_scipy_sparse_matrix, add_self_loops, softmax\n",
    "from scipy.sparse import coo_matrix, csr_matrix\n",
    "import numpy as np\n",
    "import time"
   ]
  },
  {
   "cell_type": "code",
   "execution_count": 5,
   "metadata": {},
   "outputs": [],
   "source": [
    "def measure_time(func):\n",
    "    start = time.time()\n",
    "    func()\n",
    "    end = time.time()\n",
    "    return end - start"
   ]
  },
  {
   "cell_type": "code",
   "execution_count": 6,
   "metadata": {},
   "outputs": [],
   "source": [
    "class GATModel(torch.nn.Module):\n",
    "    def __init__(self, in_channels, out_channels, heads=1):\n",
    "        super(GATModel, self).__init__()\n",
    "        self.gat_layer = GATLayer(in_channels, out_channels, heads)\n",
    "\n",
    "    def forward(self, x, edge_index):\n",
    "        return self.gat_layer(x, edge_index)"
   ]
  },
  {
   "cell_type": "code",
   "execution_count": 20,
   "metadata": {},
   "outputs": [],
   "source": [
    "def generate_graph_data(num_nodes, num_features, num_classes, edge_density):\n",
    "    x = torch.rand((num_nodes, num_features), dtype=torch.float32)\n",
    "    y = torch.randint(0, num_classes, (num_nodes,), dtype=torch.long)\n",
    "    edge_index = torch_geometric.utils.dense_to_sparse(torch.bernoulli(torch.full((num_nodes, num_nodes), edge_density)))[0]\n",
    "    return Data(x=x, edge_index=edge_index, y=y)"
   ]
  },
  {
   "cell_type": "code",
   "execution_count": 8,
   "metadata": {},
   "outputs": [],
   "source": [
    "def train_epoch(model, data, optimizer, criterion, device):\n",
    "    model.train()\n",
    "    data = data.to(device)\n",
    "    optimizer.zero_grad()\n",
    "    output = model(data.x, data.edge_index)\n",
    "    loss = criterion(output, data.y)\n",
    "    loss.backward()\n",
    "    optimizer.step()\n",
    "\n",
    "def inference(model, data, device):\n",
    "    model.eval()\n",
    "    data = data.to(device)\n",
    "    with torch.no_grad():\n",
    "        output = model(data.x, data.edge_index)\n",
    "    return output"
   ]
  },
  {
   "cell_type": "code",
   "execution_count": 9,
   "metadata": {},
   "outputs": [],
   "source": [
    "num_nodes = 1000\n",
    "num_features = 100\n",
    "num_classes = 10\n",
    "edge_density = 0.01"
   ]
  },
  {
   "cell_type": "code",
   "execution_count": 10,
   "metadata": {},
   "outputs": [],
   "source": [
    "data = generate_graph_data(num_nodes, num_features, num_classes, edge_density)"
   ]
  },
  {
   "cell_type": "code",
   "execution_count": 11,
   "metadata": {},
   "outputs": [],
   "source": [
    "adj_coo = to_scipy_sparse_matrix(data.edge_index).tocoo()\n",
    "adj_csr = adj_coo.tocsr()\n"
   ]
  },
  {
   "cell_type": "code",
   "execution_count": 12,
   "metadata": {},
   "outputs": [
    {
     "name": "stderr",
     "output_type": "stream",
     "text": [
      "C:\\Users\\olame\\AppData\\Local\\Temp\\ipykernel_22024\\1569400792.py:1: UserWarning: Creating a tensor from a list of numpy.ndarrays is extremely slow. Please consider converting the list to a single numpy.ndarray with numpy.array() before converting to a tensor. (Triggered internally at  C:\\cb\\pytorch_1000000000000\\work\\torch\\csrc\\utils\\tensor_new.cpp:204.)\n",
      "  coo_tensor = torch.sparse_coo_tensor([adj_coo.row, adj_coo.col], adj_coo.data, size=adj_coo.shape)\n"
     ]
    }
   ],
   "source": [
    "coo_tensor = torch.sparse_coo_tensor([adj_coo.row, adj_coo.col], adj_coo.data, size=adj_coo.shape)\n",
    "data_coo = Data(x=data.x, edge_index=coo_tensor._indices(), y=data.y)"
   ]
  },
  {
   "cell_type": "code",
   "execution_count": 13,
   "metadata": {},
   "outputs": [
    {
     "name": "stderr",
     "output_type": "stream",
     "text": [
      "C:\\Users\\olame\\AppData\\Local\\Temp\\ipykernel_22024\\3046264546.py:1: UserWarning: Sparse CSR tensor support is in beta state. If you miss a functionality in the sparse tensor support, please submit a feature request to https://github.com/pytorch/pytorch/issues. (Triggered internally at  C:\\cb\\pytorch_1000000000000\\work\\aten\\src\\ATen\\SparseCsrTensorImpl.cpp:68.)\n",
      "  csr_tensor = torch.sparse_csr_tensor(crow_indices=adj_csr.indptr, col_indices=adj_csr.indices, values=adj_csr.data, size=adj_csr.shape)\n"
     ]
    }
   ],
   "source": [
    "csr_tensor = torch.sparse_csr_tensor(crow_indices=adj_csr.indptr, col_indices=adj_csr.indices, values=adj_csr.data, size=adj_csr.shape)\n",
    "#data_csr = Data(x=data.x, edge_index=csr_tensor._indices(), y=data.y)"
   ]
  },
  {
   "cell_type": "code",
   "execution_count": 14,
   "metadata": {},
   "outputs": [],
   "source": [
    "device_cpu = torch.device('cpu')\n",
    "device_gpu = torch.device('cuda' if torch.cuda.is_available() else 'cpu')"
   ]
  },
  {
   "cell_type": "code",
   "execution_count": 15,
   "metadata": {},
   "outputs": [],
   "source": [
    "model = GATModel(num_features, num_classes, heads=4)\n",
    "optimizer = optim.Adam(model.parameters(), lr=0.01)\n",
    "criterion = torch.nn.CrossEntropyLoss()"
   ]
  },
  {
   "cell_type": "code",
   "execution_count": 16,
   "metadata": {},
   "outputs": [],
   "source": [
    "# Pomiar czasu treningu i inferencji dla COO na CPU\n",
    "time_coo_cpu_train = measure_time(lambda: train_epoch(model, data, optimizer, criterion, device_cpu))\n",
    "time_coo_cpu_infer = measure_time(lambda: inference(model, data, device_cpu))\n",
    "\n",
    "# Pomiar czasu treningu i inferencji dla CSR na CPU\n",
    "#data_csr = Data(x=data.x, edge_index=csr_tensor._indices(), y=data.y)\n",
    "#time_csr_cpu_train = measure_time(lambda: train_epoch(model, data_csr, optimizer, criterion, device_cpu))\n",
    "#time_csr_cpu_infer = measure_time(lambda: inference(model, data_csr, device_cpu))\n",
    "\n",
    "# Pomiar czasu treningu i inferencji dla COO na GPU\n",
    "time_coo_gpu_train = measure_time(lambda: train_epoch(model, data, optimizer, criterion, device_gpu))\n",
    "time_coo_gpu_infer = measure_time(lambda: inference(model, data, device_gpu))\n",
    "\n",
    "# Pomiar czasu treningu i inferencji dla CSR na GPU\n",
    "#time_csr_gpu_train = measure_time(lambda: train_epoch(model, data_csr, optimizer, criterion, device_gpu))\n",
    "#time_csr_gpu_infer = measure_time(lambda: inference(model, data_csr, device_gpu))"
   ]
  },
  {
   "cell_type": "code",
   "execution_count": 18,
   "metadata": {},
   "outputs": [
    {
     "name": "stdout",
     "output_type": "stream",
     "text": [
      "COO CPU Train Time: 0.0141 seconds\n",
      "COO CPU Inference Time: 0.0030 seconds\n",
      "COO GPU Train Time: 0.0078 seconds\n",
      "COO GPU Inference Time: 0.0030 seconds\n"
     ]
    }
   ],
   "source": [
    "print(\"COO CPU Train Time: {:.4f} seconds\".format(time_coo_cpu_train))\n",
    "print(\"COO CPU Inference Time: {:.4f} seconds\".format(time_coo_cpu_infer))\n",
    "#print(\"CSR CPU Train Time: {:.4f} seconds\".format(time_csr_cpu_train))\n",
    "#print(\"CSR CPU Inference Time: {:.4f} seconds\".format(time_csr_cpu_infer))\n",
    "print(\"COO GPU Train Time: {:.4f} seconds\".format(time_coo_gpu_train))\n",
    "print(\"COO GPU Inference Time: {:.4f} seconds\".format(time_coo_gpu_infer))\n",
    "#print(\"CSR GPU Train Time: {:.4f} seconds\".format(time_csr_gpu_train))\n",
    "#print(\"CSR GPU Inference Time: {:.4f} seconds\".format(time_csr_gpu_infer))\n"
   ]
  },
  {
   "cell_type": "code",
   "execution_count": null,
   "metadata": {},
   "outputs": [],
   "source": []
  }
 ],
 "metadata": {
  "kernelspec": {
   "display_name": "Python 3",
   "language": "python",
   "name": "python3"
  },
  "language_info": {
   "codemirror_mode": {
    "name": "ipython",
    "version": 3
   },
   "file_extension": ".py",
   "mimetype": "text/x-python",
   "name": "python",
   "nbconvert_exporter": "python",
   "pygments_lexer": "ipython3",
   "version": "3.10.14"
  }
 },
 "nbformat": 4,
 "nbformat_minor": 2
}
