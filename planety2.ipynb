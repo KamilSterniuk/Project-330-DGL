{
 "cells": [
  {
   "cell_type": "code",
   "execution_count": null,
   "metadata": {},
   "outputs": [],
   "source": [
    "import torch\n",
    "import torch.nn as nn\n",
    "import torch.optim as optim\n",
    "from torch_geometric.datasets import Planetoid\n",
    "from torch_geometric.utils import to_scipy_sparse_matrix\n",
    "from torch_geometric.data import Data\n",
    "from scipy.sparse import csr_matrix, coo_matrix\n",
    "import numpy as np\n",
    "import time\n",
    "from torch.nn import Linear, Parameter\n",
    "from torch_geometric.nn import MessagePassing\n",
    "from torch_geometric.utils import add_self_loops, degree"
   ]
  },
  {
   "cell_type": "code",
   "execution_count": null,
   "metadata": {},
   "outputs": [],
   "source": [
    "class GCNConv(MessagePassing):\n",
    "    def __init__(self, in_channels, out_channels):\n",
    "        super().__init__(aggr='add')  # \"Add\" aggregation (Step 5).\n",
    "        self.lin = Linear(in_channels, out_channels, bias=False)\n",
    "        self.bias = Parameter(torch.empty(out_channels))\n",
    "        self.reset_parameters()\n",
    "\n",
    "    def reset_parameters(self):\n",
    "        self.lin.reset_parameters()\n",
    "        self.bias.data.zero_()\n",
    "\n",
    "    def forward(self, x, edge_index):\n",
    "        edge_index, _ = add_self_loops(edge_index, num_nodes=x.size(0))\n",
    "        x = self.lin(x)\n",
    "        row, col = edge_index\n",
    "        deg = degree(col, x.size(0), dtype=x.dtype)\n",
    "        deg_inv_sqrt = deg.pow(-0.5)\n",
    "        deg_inv_sqrt[deg_inv_sqrt == float('inf')] = 0\n",
    "        norm = deg_inv_sqrt[row] * deg_inv_sqrt[col]\n",
    "        out = self.propagate(edge_index, x=x, norm=norm)\n",
    "        out = out + self.bias\n",
    "        return out\n",
    "\n",
    "    def message(self, x_j, norm):\n",
    "        return norm.view(-1, 1) * x_j"
   ]
  },
  {
   "cell_type": "code",
   "execution_count": null,
   "metadata": {},
   "outputs": [],
   "source": [
    "class GCN(nn.Module):\n",
    "    def __init__(self, input_size, hidden_size, output_size):\n",
    "        super(GCN, self).__init__()\n",
    "        self.conv1 = GCNConv(input_size, hidden_size)\n",
    "        self.conv2 = GCNConv(hidden_size, output_size)\n",
    "\n",
    "    def forward(self, x, edge_index):\n",
    "        x = self.conv1(x, edge_index)\n",
    "        x = torch.relu(x)\n",
    "        x = self.conv2(x, edge_index)\n",
    "        return x"
   ]
  },
  {
   "cell_type": "code",
   "execution_count": null,
   "metadata": {},
   "outputs": [],
   "source": [
    "def measure_time(func, *args, **kwargs):\n",
    "    start = time.time()\n",
    "    func(*args, **kwargs)\n",
    "    end = time.time()\n",
    "    return end - start"
   ]
  },
  {
   "cell_type": "code",
   "execution_count": null,
   "metadata": {},
   "outputs": [],
   "source": [
    "def train_epoch(model, data, optimizer, criterion, device, num_epochs):\n",
    "    model.train()\n",
    "    data = data.to(device)\n",
    "    for epoch in range(num_epochs):\n",
    "        optimizer.zero_grad()\n",
    "        out = model(data.x, data.edge_index)\n",
    "        loss = criterion(out, data.y)\n",
    "        loss.backward()\n",
    "        optimizer.step()\n",
    "\n",
    "def inference(model, data, num_iterations, device):\n",
    "    model.eval()\n",
    "    data = data.to(device)\n",
    "    for _ in range(num_iterations):\n",
    "        with torch.no_grad():\n",
    "            out = model(data.x, data.edge_index)"
   ]
  },
  {
   "cell_type": "code",
   "execution_count": null,
   "metadata": {},
   "outputs": [],
   "source": [
    "dataset = Planetoid(root='data/Planetoid', name='Cora')\n",
    "data = dataset[0]\n",
    "\n",
    "input_size = dataset.num_features\n",
    "hidden_size = 16\n",
    "output_size = dataset.num_classes\n",
    "num_epochs = 100\n",
    "num_iterations = 500"
   ]
  },
  {
   "cell_type": "code",
   "execution_count": null,
   "metadata": {},
   "outputs": [],
   "source": [
    "# Konwersja do macierzy sąsiedztwa COO\n",
    "adj_coo = to_scipy_sparse_matrix(data.edge_index).tocoo()\n",
    "\n",
    "# Konwersja macierzy sąsiedztwa do tensora edge_index\n",
    "edge_index_coo = torch.tensor([adj_coo.row, adj_coo.col], dtype=torch.long)\n",
    "\n",
    "# Tworzenie obiektu danych Data dla COO\n",
    "data_coo = Data(x=data.x, edge_index=edge_index_coo, y=data.y)"
   ]
  },
  {
   "cell_type": "code",
   "execution_count": null,
   "metadata": {},
   "outputs": [],
   "source": [
    "# Konwersja do macierzy sąsiedztwa CSR\n",
    "adj_csr = csr_matrix((np.ones(adj_coo.nnz), (adj_coo.row, adj_coo.col)), shape=adj_coo.shape)\n",
    "\n",
    "# Tworzenie obiektu danych Data dla CSR\n",
    "edge_index_csr = torch.tensor(adj_csr.nonzero(), dtype=torch.long)\n",
    "data_csr = Data(x=data.x, edge_index=edge_index_csr, y=data.y)"
   ]
  },
  {
   "cell_type": "code",
   "execution_count": null,
   "metadata": {},
   "outputs": [],
   "source": [
    "device_cpu = torch.device('cpu')\n",
    "device_gpu = torch.device('cuda' if torch.cuda.is_available() else 'cpu')"
   ]
  },
  {
   "cell_type": "code",
   "execution_count": null,
   "metadata": {},
   "outputs": [],
   "source": [
    "model_coo = GCN(input_size, hidden_size, output_size).to(device_cpu)\n",
    "model_csr = GCN(input_size, hidden_size, output_size).to(device_cpu)\n",
    "optimizer_coo = optim.Adam(model_coo.parameters(), lr=0.01)\n",
    "optimizer_csr = optim.Adam(model_csr.parameters(), lr=0.01)\n",
    "criterion = nn.CrossEntropyLoss()"
   ]
  },
  {
   "cell_type": "code",
   "execution_count": null,
   "metadata": {},
   "outputs": [],
   "source": [
    "time_coo_cpu_train = measure_time(train_epoch, model_coo, data_coo, optimizer_coo, criterion, device_cpu, num_epochs)\n",
    "time_coo_cpu_infer = measure_time(inference, model_coo, data_coo, num_iterations, device_cpu)\n",
    "\n",
    "time_csr_cpu_train = measure_time(train_epoch, model_csr, data_csr, optimizer_csr, criterion, device_cpu, num_epochs)\n",
    "time_csr_cpu_infer = measure_time(inference, model_csr, data_csr, num_iterations, device_cpu)"
   ]
  },
  {
   "cell_type": "code",
   "execution_count": 8,
   "metadata": {},
   "outputs": [
    {
     "name": "stdout",
     "output_type": "stream",
     "text": [
      "COO CPU Train Time: 1.6544 seconds\n",
      "COO CPU Inference Time: 2.6101 seconds\n",
      "CSR CPU Train Time: 1.5693 seconds\n",
      "CSR CPU Inference Time: 3.7772 seconds\n"
     ]
    }
   ],
   "source": [
    "print(\"COO CPU Train Time: {:.4f} seconds\".format(time_coo_cpu_train))\n",
    "print(\"COO CPU Inference Time: {:.4f} seconds\".format(time_coo_cpu_infer))\n",
    "print(\"CSR CPU Train Time: {:.4f} seconds\".format(time_csr_cpu_train))\n",
    "print(\"CSR CPU Inference Time: {:.4f} seconds\".format(time_csr_cpu_infer))"
   ]
  },
  {
   "cell_type": "code",
   "execution_count": 9,
   "metadata": {},
   "outputs": [],
   "source": [
    "import matplotlib.pyplot as plt\n",
    "import random\n",
    "import pandas as pd\n",
    "import seaborn.objects as so"
   ]
  },
  {
   "cell_type": "code",
   "execution_count": 10,
   "metadata": {},
   "outputs": [
    {
     "name": "stdout",
     "output_type": "stream",
     "text": [
      "        type matrix_type   time[s]\n",
      "0      Train         CSR  1.569256\n",
      "1      Train         COO  1.654390\n",
      "2  Inference         CSR  3.777249\n",
      "3  Inference         COO  2.610090\n"
     ]
    }
   ],
   "source": [
    "data = [{'type': 'Train', 'matrix_type': 'CSR', 'time[s]': time_csr_cpu_train}, #training_time in minutes\n",
    "        {'type': 'Train', 'matrix_type': 'COO', 'time[s]': time_coo_cpu_train},\n",
    "        {'type': 'Inference', 'matrix_type': 'CSR', 'time[s]': time_csr_cpu_infer},\n",
    "        {'type': 'Inference', 'matrix_type': 'COO', 'time[s]': time_coo_cpu_infer},]\n",
    " \n",
    "df = pd.DataFrame(data)\n",
    " \n",
    "print(df)"
   ]
  },
  {
   "cell_type": "code",
   "execution_count": 11,
   "metadata": {},
   "outputs": [
    {
     "data": {
      "image/png": "[encoded data removed]",
      "text/plain": [
       "<seaborn._core.plot.Plot at 0x1e14d891e10>"
      ]
     },
     "execution_count": 11,
     "metadata": {
      "image/png": {
       "height": 378.25,
       "width": 616.25
      }
     },
     "output_type": "execute_result"
    }
   ],
   "source": [
    "p = (so.Plot(df, \"time[s]\", \"matrix_type\", color=\"type\")\n",
    ".add(so.Bar(alpha=.5), so.Agg(), so.Dodge()))\n",
    "p.label(title=\"Training Time with respect to Sparse Matrix Format\")\n",
    "p.save(\"training_time.png\")"
   ]
  }
 ],
 "metadata": {
  "kernelspec": {
   "display_name": "Python 3",
   "language": "python",
   "name": "python3"
  },
  "language_info": {
   "codemirror_mode": {
    "name": "ipython",
    "version": 3
   },
   "file_extension": ".py",
   "mimetype": "text/x-python",
   "name": "python",
   "nbconvert_exporter": "python",
   "pygments_lexer": "ipython3",
   "version": "3.10.14"
  }
 },
 "nbformat": 4,
 "nbformat_minor": 2
}
